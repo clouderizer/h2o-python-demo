{
 "cells": [
  {
   "cell_type": "markdown",
   "metadata": {},
   "source": [
    "## Installation"
   ]
  },
  {
   "cell_type": "markdown",
   "metadata": {},
   "source": [
    "H2O offers an R package that can be installed from CRAN and a python package that can be installed from PyPI.Also you may want to look at the [documentation](http://docs.h2o.ai/h2o/latest-stable/h2o-docs/downloading.html) for complete details."
   ]
  },
  {
   "cell_type": "markdown",
   "metadata": {},
   "source": [
    "### Pre-requisites"
   ]
  },
  {
   "cell_type": "markdown",
   "metadata": {},
   "source": [
    "* Python\n",
    "* Java 7 or later, which you can get at the [Java download page](https://www.oracle.com/technetwork/java/javase/downloads/index.html).To build H2O or run H2O tests, the 64-bit JDK is required. To run the H2O binary using either the command line, R or Python packages, only 64-bit JRE is required."
   ]
  },
  {
   "cell_type": "markdown",
   "metadata": {},
   "source": [
    "### Dependencies \n"
   ]
  },
  {
   "cell_type": "code",
   "execution_count": 2,
   "metadata": {},
   "outputs": [
    {
     "data": {
      "text/plain": [
       "'\\npip install requests\\npip install tabulate\\npip install \"colorama>=0.3.8\"\\npip install future\\n\\n'"
      ]
     },
     "execution_count": 2,
     "metadata": {},
     "output_type": "execute_result"
    }
   ],
   "source": [
    "\"\"\"\n",
    "pip install requests\n",
    "pip install tabulate\n",
    "pip install \"colorama>=0.3.8\"\n",
    "pip install future\n",
    "\n",
    "\"\"\""
   ]
  },
  {
   "cell_type": "markdown",
   "metadata": {},
   "source": [
    "#### Finally Installing on the system with pip"
   ]
  },
  {
   "cell_type": "code",
   "execution_count": 5,
   "metadata": {},
   "outputs": [],
   "source": [
    "\n",
    "#pip install -f http://h2o-release.s3.amazonaws.com/h2o/latest_stable_Py.html h2o"
   ]
  },
  {
   "cell_type": "markdown",
   "metadata": {},
   "source": [
    "#### or Conda"
   ]
  },
  {
   "cell_type": "code",
   "execution_count": 6,
   "metadata": {},
   "outputs": [],
   "source": [
    "# conda install -c h2oai h2o=3.22.1.2"
   ]
  },
  {
   "cell_type": "markdown",
   "metadata": {},
   "source": [
    "Note: When installing H2O from pip in OS X El Capitan, users must include the --user flag. For example -\n",
    "\n",
    "```\n",
    "pip install -f http://h2o-release.s3.amazonaws.com/h2o/latest_stable_Py.html h2o --user\n",
    "\n",
    "```\n"
   ]
  },
  {
   "cell_type": "markdown",
   "metadata": {},
   "source": [
    "## Testing installation"
   ]
  },
  {
   "cell_type": "code",
   "execution_count": 4,
   "metadata": {},
   "outputs": [
    {
     "name": "stdout",
     "output_type": "stream",
     "text": [
      "Checking whether there is an H2O instance running at http://localhost:54321 ..... not found.\n",
      "Attempting to start a local H2O server...\n",
      "  Java Version: openjdk version \"11.0.4\" 2019-07-16; OpenJDK Runtime Environment (build 11.0.4+11-post-Ubuntu-1ubuntu218.04.3); OpenJDK 64-Bit Server VM (build 11.0.4+11-post-Ubuntu-1ubuntu218.04.3, mixed mode, sharing)\n",
      "  Starting server from /usr/local/lib/python3.6/dist-packages/h2o/backend/bin/h2o.jar\n",
      "  Ice root: /tmp/tmpg5gjdicw\n",
      "  JVM stdout: /tmp/tmpg5gjdicw/h2o_unknownUser_started_from_python.out\n",
      "  JVM stderr: /tmp/tmpg5gjdicw/h2o_unknownUser_started_from_python.err\n",
      "  Server is running at http://127.0.0.1:54321\n",
      "Connecting to H2O server at http://127.0.0.1:54321 ... successful.\n"
     ]
    },
    {
     "data": {
      "text/html": [
       "<div style=\"overflow:auto\"><table style=\"width:50%\"><tr><td>H2O cluster uptime:</td>\n",
       "<td>04 secs</td></tr>\n",
       "<tr><td>H2O cluster timezone:</td>\n",
       "<td>Etc/GMT</td></tr>\n",
       "<tr><td>H2O data parsing timezone:</td>\n",
       "<td>UTC</td></tr>\n",
       "<tr><td>H2O cluster version:</td>\n",
       "<td>3.28.0.3</td></tr>\n",
       "<tr><td>H2O cluster version age:</td>\n",
       "<td>1 month and 8 days </td></tr>\n",
       "<tr><td>H2O cluster name:</td>\n",
       "<td>H2O_from_python_unknownUser_ybccmg</td></tr>\n",
       "<tr><td>H2O cluster total nodes:</td>\n",
       "<td>1</td></tr>\n",
       "<tr><td>H2O cluster free memory:</td>\n",
       "<td>500 Mb</td></tr>\n",
       "<tr><td>H2O cluster total cores:</td>\n",
       "<td>2</td></tr>\n",
       "<tr><td>H2O cluster allowed cores:</td>\n",
       "<td>2</td></tr>\n",
       "<tr><td>H2O cluster status:</td>\n",
       "<td>accepting new members, healthy</td></tr>\n",
       "<tr><td>H2O connection url:</td>\n",
       "<td>http://127.0.0.1:54321</td></tr>\n",
       "<tr><td>H2O connection proxy:</td>\n",
       "<td>{'http': None, 'https': None}</td></tr>\n",
       "<tr><td>H2O internal security:</td>\n",
       "<td>False</td></tr>\n",
       "<tr><td>H2O API Extensions:</td>\n",
       "<td>Amazon S3, XGBoost, Algos, AutoML, Core V3, TargetEncoder, Core V4</td></tr>\n",
       "<tr><td>Python version:</td>\n",
       "<td>3.6.8 final</td></tr></table></div>"
      ],
      "text/plain": [
       "--------------------------  ------------------------------------------------------------------\n",
       "H2O cluster uptime:         04 secs\n",
       "H2O cluster timezone:       Etc/GMT\n",
       "H2O data parsing timezone:  UTC\n",
       "H2O cluster version:        3.28.0.3\n",
       "H2O cluster version age:    1 month and 8 days\n",
       "H2O cluster name:           H2O_from_python_unknownUser_ybccmg\n",
       "H2O cluster total nodes:    1\n",
       "H2O cluster free memory:    500 Mb\n",
       "H2O cluster total cores:    2\n",
       "H2O cluster allowed cores:  2\n",
       "H2O cluster status:         accepting new members, healthy\n",
       "H2O connection url:         http://127.0.0.1:54321\n",
       "H2O connection proxy:       {'http': None, 'https': None}\n",
       "H2O internal security:      False\n",
       "H2O API Extensions:         Amazon S3, XGBoost, Algos, AutoML, Core V3, TargetEncoder, Core V4\n",
       "Python version:             3.6.8 final\n",
       "--------------------------  ------------------------------------------------------------------"
      ]
     },
     "metadata": {},
     "output_type": "display_data"
    }
   ],
   "source": [
    "import h2o\n",
    "h2o.init()"
   ]
  },
  {
   "cell_type": "markdown",
   "metadata": {},
   "source": [
    "## Importing Data with H2O in Python"
   ]
  },
  {
   "cell_type": "markdown",
   "metadata": {},
   "source": [
    "\n",
    "The data belongs to the white variants of the Portuguese \"Vinho Verde\" wine. \n",
    "* Source: https://archive.ics.uci.edu/ml/datasets/Wine+Quality\n",
    "* CSV FIle : (https://archive.ics.uci.edu/ml/machine-learning-databases/wine-quality/winequality-white.csv)"
   ]
  },
  {
   "cell_type": "code",
   "execution_count": 5,
   "metadata": {},
   "outputs": [
    {
     "name": "stdout",
     "output_type": "stream",
     "text": [
      "Parse progress: |█████████████████████████████████████████████████████████| 100%\n"
     ]
    },
    {
     "data": {
      "text/html": [
       "<table>\n",
       "<thead>\n",
       "<tr><th style=\"text-align: right;\">  fixed acidity</th><th style=\"text-align: right;\">  volatile acidity</th><th style=\"text-align: right;\">  citric acid</th><th style=\"text-align: right;\">  residual sugar</th><th style=\"text-align: right;\">  chlorides</th><th style=\"text-align: right;\">  free sulfur dioxide</th><th style=\"text-align: right;\">  total sulfur dioxide</th><th style=\"text-align: right;\">  density</th><th style=\"text-align: right;\">  pH</th><th style=\"text-align: right;\">  sulphates</th><th style=\"text-align: right;\">  alcohol</th><th style=\"text-align: right;\">  quality</th></tr>\n",
       "</thead>\n",
       "<tbody>\n",
       "<tr><td style=\"text-align: right;\">            7  </td><td style=\"text-align: right;\">              0.27</td><td style=\"text-align: right;\">         0.36</td><td style=\"text-align: right;\">            20.7</td><td style=\"text-align: right;\">      0.045</td><td style=\"text-align: right;\">                   45</td><td style=\"text-align: right;\">                   170</td><td style=\"text-align: right;\">   1.001 </td><td style=\"text-align: right;\">3   </td><td style=\"text-align: right;\">       0.45</td><td style=\"text-align: right;\">      8.8</td><td style=\"text-align: right;\">        6</td></tr>\n",
       "<tr><td style=\"text-align: right;\">            6.3</td><td style=\"text-align: right;\">              0.3 </td><td style=\"text-align: right;\">         0.34</td><td style=\"text-align: right;\">             1.6</td><td style=\"text-align: right;\">      0.049</td><td style=\"text-align: right;\">                   14</td><td style=\"text-align: right;\">                   132</td><td style=\"text-align: right;\">   0.994 </td><td style=\"text-align: right;\">3.3 </td><td style=\"text-align: right;\">       0.49</td><td style=\"text-align: right;\">      9.5</td><td style=\"text-align: right;\">        6</td></tr>\n",
       "<tr><td style=\"text-align: right;\">            8.1</td><td style=\"text-align: right;\">              0.28</td><td style=\"text-align: right;\">         0.4 </td><td style=\"text-align: right;\">             6.9</td><td style=\"text-align: right;\">      0.05 </td><td style=\"text-align: right;\">                   30</td><td style=\"text-align: right;\">                    97</td><td style=\"text-align: right;\">   0.9951</td><td style=\"text-align: right;\">3.26</td><td style=\"text-align: right;\">       0.44</td><td style=\"text-align: right;\">     10.1</td><td style=\"text-align: right;\">        6</td></tr>\n",
       "<tr><td style=\"text-align: right;\">            7.2</td><td style=\"text-align: right;\">              0.23</td><td style=\"text-align: right;\">         0.32</td><td style=\"text-align: right;\">             8.5</td><td style=\"text-align: right;\">      0.058</td><td style=\"text-align: right;\">                   47</td><td style=\"text-align: right;\">                   186</td><td style=\"text-align: right;\">   0.9956</td><td style=\"text-align: right;\">3.19</td><td style=\"text-align: right;\">       0.4 </td><td style=\"text-align: right;\">      9.9</td><td style=\"text-align: right;\">        6</td></tr>\n",
       "<tr><td style=\"text-align: right;\">            7.2</td><td style=\"text-align: right;\">              0.23</td><td style=\"text-align: right;\">         0.32</td><td style=\"text-align: right;\">             8.5</td><td style=\"text-align: right;\">      0.058</td><td style=\"text-align: right;\">                   47</td><td style=\"text-align: right;\">                   186</td><td style=\"text-align: right;\">   0.9956</td><td style=\"text-align: right;\">3.19</td><td style=\"text-align: right;\">       0.4 </td><td style=\"text-align: right;\">      9.9</td><td style=\"text-align: right;\">        6</td></tr>\n",
       "</tbody>\n",
       "</table>"
      ]
     },
     "metadata": {},
     "output_type": "display_data"
    },
    {
     "data": {
      "text/plain": []
     },
     "execution_count": 5,
     "metadata": {},
     "output_type": "execute_result"
    }
   ],
   "source": [
    "wine_data = h2o.import_file(\"winequality-white.csv\")\n",
    "wine_data.head(5)# The default head() command displays the first 10 rows."
   ]
  },
  {
   "cell_type": "markdown",
   "metadata": {},
   "source": [
    "## EDA"
   ]
  },
  {
   "cell_type": "code",
   "execution_count": 6,
   "metadata": {},
   "outputs": [
    {
     "name": "stdout",
     "output_type": "stream",
     "text": [
      "Rows:4898\n",
      "Cols:12\n",
      "\n",
      "\n"
     ]
    },
    {
     "data": {
      "text/html": [
       "<table>\n",
       "<thead>\n",
       "<tr><th>       </th><th>fixed acidity    </th><th>volatile acidity   </th><th>citric acid        </th><th>residual sugar   </th><th>chlorides         </th><th>free sulfur dioxide  </th><th>total sulfur dioxide  </th><th>density             </th><th>pH                 </th><th>sulphates          </th><th>alcohol           </th><th>quality           </th></tr>\n",
       "</thead>\n",
       "<tbody>\n",
       "<tr><td>type   </td><td>real             </td><td>real               </td><td>real               </td><td>real             </td><td>real              </td><td>real                 </td><td>real                  </td><td>real                </td><td>real               </td><td>real               </td><td>real              </td><td>int               </td></tr>\n",
       "<tr><td>mins   </td><td>3.8              </td><td>0.08               </td><td>0.0                </td><td>0.6              </td><td>0.009             </td><td>2.0                  </td><td>9.0                   </td><td>0.98711             </td><td>2.72               </td><td>0.22               </td><td>8.0               </td><td>3.0               </td></tr>\n",
       "<tr><td>mean   </td><td>6.854787668436095</td><td>0.27824111882400976</td><td>0.3341915067374438 </td><td>6.391414863209474</td><td>0.0457723560636995</td><td>35.30808493262556    </td><td>138.36065741118827    </td><td>0.9940273764801961  </td><td>3.188266639444671  </td><td>0.48984687627603113</td><td>10.514267047774602</td><td>5.87790935075541  </td></tr>\n",
       "<tr><td>maxs   </td><td>14.2             </td><td>1.1                </td><td>1.66               </td><td>65.8             </td><td>0.346             </td><td>289.0                </td><td>440.0                 </td><td>1.03898             </td><td>3.82               </td><td>1.08               </td><td>14.2              </td><td>9.0               </td></tr>\n",
       "<tr><td>sigma  </td><td>0.843868227687513</td><td>0.10079454842486532</td><td>0.12101980420298249</td><td>5.072057784014881</td><td>0.0218479680937288</td><td>17.00713732523259    </td><td>42.49806455414292     </td><td>0.002990906916936968</td><td>0.15100059961506673</td><td>0.11412583394883231</td><td>1.2306205677573172</td><td>0.8856385749678313</td></tr>\n",
       "<tr><td>zeros  </td><td>0                </td><td>0                  </td><td>19                 </td><td>0                </td><td>0                 </td><td>0                    </td><td>0                     </td><td>0                   </td><td>0                  </td><td>0                  </td><td>0                 </td><td>0                 </td></tr>\n",
       "<tr><td>missing</td><td>0                </td><td>0                  </td><td>0                  </td><td>0                </td><td>0                 </td><td>0                    </td><td>0                     </td><td>0                   </td><td>0                  </td><td>0                  </td><td>0                 </td><td>0                 </td></tr>\n",
       "<tr><td>0      </td><td>7.0              </td><td>0.27               </td><td>0.36               </td><td>20.7             </td><td>0.045             </td><td>45.0                 </td><td>170.0                 </td><td>1.001               </td><td>3.0                </td><td>0.45               </td><td>8.8               </td><td>6.0               </td></tr>\n",
       "<tr><td>1      </td><td>6.3              </td><td>0.3                </td><td>0.34               </td><td>1.6              </td><td>0.049             </td><td>14.0                 </td><td>132.0                 </td><td>0.994               </td><td>3.3                </td><td>0.49               </td><td>9.5               </td><td>6.0               </td></tr>\n",
       "<tr><td>2      </td><td>8.1              </td><td>0.28               </td><td>0.4                </td><td>6.9              </td><td>0.05              </td><td>30.0                 </td><td>97.0                  </td><td>0.9951              </td><td>3.26               </td><td>0.44               </td><td>10.1              </td><td>6.0               </td></tr>\n",
       "<tr><td>3      </td><td>7.2              </td><td>0.23               </td><td>0.32               </td><td>8.5              </td><td>0.058             </td><td>47.0                 </td><td>186.0                 </td><td>0.9956              </td><td>3.19               </td><td>0.4                </td><td>9.9               </td><td>6.0               </td></tr>\n",
       "<tr><td>4      </td><td>7.2              </td><td>0.23               </td><td>0.32               </td><td>8.5              </td><td>0.058             </td><td>47.0                 </td><td>186.0                 </td><td>0.9956              </td><td>3.19               </td><td>0.4                </td><td>9.9               </td><td>6.0               </td></tr>\n",
       "<tr><td>5      </td><td>8.1              </td><td>0.28               </td><td>0.4                </td><td>6.9              </td><td>0.05              </td><td>30.0                 </td><td>97.0                  </td><td>0.9951              </td><td>3.26               </td><td>0.44               </td><td>10.1              </td><td>6.0               </td></tr>\n",
       "<tr><td>6      </td><td>6.2              </td><td>0.32               </td><td>0.16               </td><td>7.0              </td><td>0.045             </td><td>30.0                 </td><td>136.0                 </td><td>0.9949              </td><td>3.18               </td><td>0.47               </td><td>9.6               </td><td>6.0               </td></tr>\n",
       "<tr><td>7      </td><td>7.0              </td><td>0.27               </td><td>0.36               </td><td>20.7             </td><td>0.045             </td><td>45.0                 </td><td>170.0                 </td><td>1.001               </td><td>3.0                </td><td>0.45               </td><td>8.8               </td><td>6.0               </td></tr>\n",
       "<tr><td>8      </td><td>6.3              </td><td>0.3                </td><td>0.34               </td><td>1.6              </td><td>0.049             </td><td>14.0                 </td><td>132.0                 </td><td>0.994               </td><td>3.3                </td><td>0.49               </td><td>9.5               </td><td>6.0               </td></tr>\n",
       "<tr><td>9      </td><td>8.1              </td><td>0.22               </td><td>0.43               </td><td>1.5              </td><td>0.044             </td><td>28.0                 </td><td>129.0                 </td><td>0.9938              </td><td>3.22               </td><td>0.45               </td><td>11.0              </td><td>6.0               </td></tr>\n",
       "</tbody>\n",
       "</table>"
      ]
     },
     "metadata": {},
     "output_type": "display_data"
    }
   ],
   "source": [
    "wine_data.describe()"
   ]
  },
  {
   "cell_type": "code",
   "execution_count": 8,
   "metadata": {},
   "outputs": [
    {
     "data": {
      "image/png": "[encoded data removed]",
      "text/plain": [
       "<Figure size 720x720 with 2 Axes>"
      ]
     },
     "metadata": {
      "needs_background": "light"
     },
     "output_type": "display_data"
    }
   ],
   "source": [
    "import matplotlib.pyplot as plt\n",
    "import seaborn as sns\n",
    "plt.figure(figsize=(10,10))\n",
    "corr = wine_data.cor().as_data_frame()\n",
    "corr.index = wine_data.columns\n",
    "sns.heatmap(corr, annot = True, cmap='RdYlGn', vmin=-1, vmax=1)\n",
    "plt.title(\"Correlation Heatmap\", fontsize=16)\n",
    "plt.show()"
   ]
  },
  {
   "cell_type": "markdown",
   "metadata": {},
   "source": [
    "## Modeling with H2O\n",
    "Let us now build a regression model to predict the Quality of the wine. There a lot of [Algorithms](http://docs.h2o.ai/h2o/latest-stable/h2o-docs/data-science.html) available in the H2O module both for Classification as well as Regression problems."
   ]
  },
  {
   "cell_type": "markdown",
   "metadata": {},
   "source": [
    "### Splitting data into Test and Training sets"
   ]
  },
  {
   "cell_type": "code",
   "execution_count": 9,
   "metadata": {},
   "outputs": [
    {
     "name": "stdout",
     "output_type": "stream",
     "text": [
      "(3932, 12) (966, 12)\n"
     ]
    }
   ],
   "source": [
    "wine_split = wine_data.split_frame(ratios = [0.8], seed = 1234)\n",
    "wine_train = wine_split[0] # using 80% for training\n",
    "wine_test = wine_split[1] #rest 20% for testing\n",
    "print(wine_train.shape, wine_test.shape)"
   ]
  },
  {
   "cell_type": "markdown",
   "metadata": {},
   "source": [
    "### Defining Predictor Variables\n"
   ]
  },
  {
   "cell_type": "code",
   "execution_count": 10,
   "metadata": {},
   "outputs": [
    {
     "data": {
      "text/plain": [
       "['fixed acidity',\n",
       " 'volatile acidity',\n",
       " 'citric acid',\n",
       " 'residual sugar',\n",
       " 'chlorides',\n",
       " 'free sulfur dioxide',\n",
       " 'total sulfur dioxide',\n",
       " 'density',\n",
       " 'pH',\n",
       " 'sulphates',\n",
       " 'alcohol']"
      ]
     },
     "execution_count": 10,
     "metadata": {},
     "output_type": "execute_result"
    }
   ],
   "source": [
    "predictors = list(wine_data.columns) \n",
    "predictors.remove('quality')  # Since we need to predict quality\n",
    "predictors"
   ]
  },
  {
   "cell_type": "markdown",
   "metadata": {},
   "source": [
    "## Generalized Linear Model"
   ]
  },
  {
   "cell_type": "markdown",
   "metadata": {},
   "source": [
    "We shall build a Generalized Linear Model (GLM) with default settings. Generalized Linear Models (GLM) estimate regression models for outcomes following exponential distributions. In addition to the Gaussian (i.e. normal) distribution, these include Poisson, binomial, and gamma distributions. You can read more about GLM in the [documentation](http://docs.h2o.ai/h2o/latest-stable/h2o-docs/data-science/glm.html)."
   ]
  },
  {
   "cell_type": "code",
   "execution_count": 11,
   "metadata": {},
   "outputs": [
    {
     "name": "stdout",
     "output_type": "stream",
     "text": [
      "glm Model Build progress: |███████████████████████████████████████████████| 100%\n",
      "Model Details\n",
      "=============\n",
      "H2OGeneralizedLinearEstimator :  Generalized Linear Modeling\n",
      "Model Key:  glm_default\n",
      "\n",
      "\n",
      "GLM Model: summary\n"
     ]
    },
    {
     "data": {
      "text/html": [
       "<div>\n",
       "<style scoped>\n",
       "    .dataframe tbody tr th:only-of-type {\n",
       "        vertical-align: middle;\n",
       "    }\n",
       "\n",
       "    .dataframe tbody tr th {\n",
       "        vertical-align: top;\n",
       "    }\n",
       "\n",
       "    .dataframe thead th {\n",
       "        text-align: right;\n",
       "    }\n",
       "</style>\n",
       "<table border=\"1\" class=\"dataframe\">\n",
       "  <thead>\n",
       "    <tr style=\"text-align: right;\">\n",
       "      <th></th>\n",
       "      <th></th>\n",
       "      <th>family</th>\n",
       "      <th>link</th>\n",
       "      <th>regularization</th>\n",
       "      <th>number_of_predictors_total</th>\n",
       "      <th>number_of_active_predictors</th>\n",
       "      <th>number_of_iterations</th>\n",
       "      <th>training_frame</th>\n",
       "    </tr>\n",
       "  </thead>\n",
       "  <tbody>\n",
       "    <tr>\n",
       "      <th>0</th>\n",
       "      <td></td>\n",
       "      <td>gaussian</td>\n",
       "      <td>identity</td>\n",
       "      <td>Elastic Net (alpha = 0.5, lambda = 7.744E-4 )</td>\n",
       "      <td>11</td>\n",
       "      <td>11</td>\n",
       "      <td>1</td>\n",
       "      <td>py_5_sid_9ac2</td>\n",
       "    </tr>\n",
       "  </tbody>\n",
       "</table>\n",
       "</div>"
      ],
      "text/plain": [
       "       family      link                                 regularization  \\\n",
       "0    gaussian  identity  Elastic Net (alpha = 0.5, lambda = 7.744E-4 )   \n",
       "\n",
       "   number_of_predictors_total number_of_active_predictors  \\\n",
       "0                          11                          11   \n",
       "\n",
       "   number_of_iterations training_frame  \n",
       "0                     1  py_5_sid_9ac2  "
      ]
     },
     "metadata": {},
     "output_type": "display_data"
    },
    {
     "name": "stdout",
     "output_type": "stream",
     "text": [
      "\n",
      "\n",
      "ModelMetricsRegressionGLM: glm\n",
      "** Reported on train data. **\n",
      "\n",
      "MSE: 0.566326060043902\n",
      "RMSE: 0.7525463839816798\n",
      "MAE: 0.5855739117180468\n",
      "RMSLE: 0.11135798916908833\n",
      "R^2: 0.28516909778801847\n",
      "Mean Residual Deviance: 0.566326060043902\n",
      "Null degrees of freedom: 3931\n",
      "Residual degrees of freedom: 3920\n",
      "Null deviance: 3115.1340284842436\n",
      "Residual deviance: 2226.7940680926226\n",
      "AIC: 8948.855269434127\n",
      "\n",
      "Scoring History: \n"
     ]
    },
    {
     "data": {
      "text/html": [
       "<div>\n",
       "<style scoped>\n",
       "    .dataframe tbody tr th:only-of-type {\n",
       "        vertical-align: middle;\n",
       "    }\n",
       "\n",
       "    .dataframe tbody tr th {\n",
       "        vertical-align: top;\n",
       "    }\n",
       "\n",
       "    .dataframe thead th {\n",
       "        text-align: right;\n",
       "    }\n",
       "</style>\n",
       "<table border=\"1\" class=\"dataframe\">\n",
       "  <thead>\n",
       "    <tr style=\"text-align: right;\">\n",
       "      <th></th>\n",
       "      <th></th>\n",
       "      <th>timestamp</th>\n",
       "      <th>duration</th>\n",
       "      <th>iterations</th>\n",
       "      <th>negative_log_likelihood</th>\n",
       "      <th>objective</th>\n",
       "    </tr>\n",
       "  </thead>\n",
       "  <tbody>\n",
       "    <tr>\n",
       "      <th>0</th>\n",
       "      <td></td>\n",
       "      <td>2020-03-14 12:26:30</td>\n",
       "      <td>0.000 sec</td>\n",
       "      <td>0</td>\n",
       "      <td>3115.134028</td>\n",
       "      <td>0.792252</td>\n",
       "    </tr>\n",
       "  </tbody>\n",
       "</table>\n",
       "</div>"
      ],
      "text/plain": [
       "               timestamp    duration  iterations  negative_log_likelihood  \\\n",
       "0    2020-03-14 12:26:30   0.000 sec           0              3115.134028   \n",
       "\n",
       "   objective  \n",
       "0   0.792252  "
      ]
     },
     "metadata": {},
     "output_type": "display_data"
    },
    {
     "name": "stdout",
     "output_type": "stream",
     "text": [
      "\n"
     ]
    }
   ],
   "source": [
    "# Import the function for GLM\n",
    "from h2o.estimators.glm import H2OGeneralizedLinearEstimator\n",
    "# Set up GLM for regression\n",
    "glm = H2OGeneralizedLinearEstimator(family = 'gaussian', model_id = 'glm_default')\n",
    "# Use .train() to build the model\n",
    "glm.train(x = predictors, \n",
    "                  y = 'quality', \n",
    "                  training_frame = wine_train)\n",
    "print(glm)"
   ]
  },
  {
   "cell_type": "markdown",
   "metadata": {},
   "source": [
    "Now, let's check the model's performance on the test dataset"
   ]
  },
  {
   "cell_type": "code",
   "execution_count": 12,
   "metadata": {},
   "outputs": [
    {
     "name": "stdout",
     "output_type": "stream",
     "text": [
      "\n",
      "ModelMetricsRegressionGLM: glm\n",
      "** Reported on test data. **\n",
      "\n",
      "MSE: 0.5546397919709428\n",
      "RMSE: 0.7447414262486967\n",
      "MAE: 0.5795791157106436\n",
      "RMSLE: 0.1107966197145172\n",
      "R^2: 0.26184927981796347\n",
      "Mean Residual Deviance: 0.5546397919709428\n",
      "Null degrees of freedom: 965\n",
      "Residual degrees of freedom: 954\n",
      "Null deviance: 725.8587305402426\n",
      "Residual deviance: 535.7820390439308\n",
      "AIC: 2197.9936843132614\n"
     ]
    },
    {
     "data": {
      "text/plain": []
     },
     "execution_count": 12,
     "metadata": {},
     "output_type": "execute_result"
    }
   ],
   "source": [
    "glm.model_performance(wine_test)"
   ]
  },
  {
   "cell_type": "markdown",
   "metadata": {},
   "source": [
    "### Making Predictions"
   ]
  },
  {
   "cell_type": "code",
   "execution_count": 13,
   "metadata": {},
   "outputs": [
    {
     "name": "stdout",
     "output_type": "stream",
     "text": [
      "glm prediction progress: |████████████████████████████████████████████████| 100%\n"
     ]
    },
    {
     "data": {
      "text/html": [
       "<table>\n",
       "<thead>\n",
       "<tr><th style=\"text-align: right;\">  predict</th></tr>\n",
       "</thead>\n",
       "<tbody>\n",
       "<tr><td style=\"text-align: right;\">  5.76109</td></tr>\n",
       "<tr><td style=\"text-align: right;\">  5.76721</td></tr>\n",
       "<tr><td style=\"text-align: right;\">  5.64325</td></tr>\n",
       "<tr><td style=\"text-align: right;\">  5.85764</td></tr>\n",
       "<tr><td style=\"text-align: right;\">  5.77967</td></tr>\n",
       "</tbody>\n",
       "</table>"
      ]
     },
     "metadata": {},
     "output_type": "display_data"
    },
    {
     "data": {
      "text/plain": []
     },
     "execution_count": 13,
     "metadata": {},
     "output_type": "execute_result"
    }
   ],
   "source": [
    "predictions = glm.predict(wine_test)\n",
    "predictions.head(5)"
   ]
  },
  {
   "cell_type": "markdown",
   "metadata": {},
   "source": [
    "### Export GLM model as MOJO"
   ]
  },
  {
   "cell_type": "code",
   "execution_count": 14,
   "metadata": {},
   "outputs": [
    {
     "data": {
      "text/plain": [
       "'/content/clouderizer/H2OPythonDemo/code/wine_mojo.zip'"
      ]
     },
     "execution_count": 14,
     "metadata": {},
     "output_type": "execute_result"
    }
   ],
   "source": [
    "glm.download_mojo('./wine_mojo.zip')"
   ]
  },
  {
   "cell_type": "code",
   "execution_count": null,
   "metadata": {},
   "outputs": [],
   "source": []
  }
 ],
 "metadata": {
  "kernelspec": {
   "display_name": "Python 3",
   "language": "python",
   "name": "python3"
  },
  "language_info": {
   "codemirror_mode": {
    "name": "ipython",
    "version": 3
   },
   "file_extension": ".py",
   "mimetype": "text/x-python",
   "name": "python",
   "nbconvert_exporter": "python",
   "pygments_lexer": "ipython3",
   "version": "3.6.8"
  }
 },
 "nbformat": 4,
 "nbformat_minor": 4
}
